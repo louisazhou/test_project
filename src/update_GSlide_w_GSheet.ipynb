{
 "cells": [
  {
   "cell_type": "code",
   "execution_count": 1,
   "metadata": {},
   "outputs": [],
   "source": [
    "import pandas as pd\n",
    "\n",
    "# Mock data\n",
    "data = {\n",
    "    'Region': ['NA', 'EMEA', 'APAC', 'LATAM'],\n",
    "    'Sales': [120000, 95000, 110000, 87000],\n",
    "    'Growth': [0.12, 0.08, 0.15, 0.07]\n",
    "}\n",
    "\n",
    "df = pd.DataFrame(data)"
   ]
  },
  {
   "cell_type": "code",
   "execution_count": 2,
   "metadata": {},
   "outputs": [
    {
     "name": "stdout",
     "output_type": "stream",
     "text": [
      "Sheet: Market\n",
      "{'chartId': 2124786946, 'spec': {'title': 'Market Share Distribution', 'basicChart': {'chartType': 'COLUMN', 'legendPosition': 'RIGHT_LEGEND', 'axis': [{'position': 'BOTTOM_AXIS', 'title': 'Category', 'format': {'fontFamily': 'Arial', 'fontSize': 14, 'bold': True}, 'viewWindowOptions': {}}, {'position': 'LEFT_AXIS', 'title': 'Market Share (%)', 'format': {'fontFamily': 'Arial', 'fontSize': 14, 'bold': True}, 'viewWindowOptions': {}}], 'domains': [{'domain': {'sourceRange': {'sources': [{'sheetId': 71990721, 'startRowIndex': 0, 'endRowIndex': 6, 'startColumnIndex': 0, 'endColumnIndex': 1}]}}}], 'series': [{'series': {'sourceRange': {'sources': [{'sheetId': 71990721, 'startRowIndex': 0, 'endRowIndex': 6, 'startColumnIndex': 1, 'endColumnIndex': 2}]}}, 'targetAxis': 'LEFT_AXIS'}], 'headerCount': 1}, 'hiddenDimensionStrategy': 'SKIP_HIDDEN_ROWS_AND_COLUMNS', 'titleTextFormat': {'foregroundColor': {}, 'fontFamily': 'Arial', 'fontSize': 16, 'bold': True, 'foregroundColorStyle': {'rgbColor': {}}}, 'fontName': 'Arial', 'titleTextPosition': {'horizontalAlignment': 'CENTER'}}, 'position': {'overlayPosition': {'anchorCell': {'sheetId': 71990721, 'rowIndex': 1, 'columnIndex': 1}, 'widthPixels': 710, 'heightPixels': 313}}}\n",
      "{'chartId': 2063674350, 'spec': {'title': 'Annotated Market Share', 'basicChart': {'chartType': 'COLUMN', 'legendPosition': 'RIGHT_LEGEND', 'axis': [{'position': 'BOTTOM_AXIS', 'title': 'Category', 'format': {'fontFamily': 'Arial', 'fontSize': 14, 'bold': True}, 'viewWindowOptions': {}}, {'position': 'LEFT_AXIS', 'title': 'Market Share (%)', 'format': {'fontFamily': 'Arial', 'fontSize': 14, 'bold': True}, 'viewWindowOptions': {}}], 'domains': [{'domain': {'sourceRange': {'sources': [{'sheetId': 71990721, 'startRowIndex': 0, 'endRowIndex': 6, 'startColumnIndex': 0, 'endColumnIndex': 1}]}}}], 'series': [{'series': {'sourceRange': {'sources': [{'sheetId': 71990721, 'startRowIndex': 0, 'endRowIndex': 6, 'startColumnIndex': 1, 'endColumnIndex': 2}]}}, 'targetAxis': 'LEFT_AXIS', 'dataLabel': {'type': 'DATA', 'textFormat': {'fontFamily': 'Arial', 'fontSize': 12}, 'placement': 'OUTSIDE_END'}}], 'headerCount': 1}, 'hiddenDimensionStrategy': 'SKIP_HIDDEN_ROWS_AND_COLUMNS', 'titleTextFormat': {'foregroundColor': {}, 'fontFamily': 'Arial', 'fontSize': 16, 'bold': True, 'foregroundColorStyle': {'rgbColor': {}}}, 'fontName': 'Arial', 'titleTextPosition': {'horizontalAlignment': 'CENTER'}}, 'position': {'overlayPosition': {'anchorCell': {'sheetId': 71990721, 'rowIndex': 1, 'columnIndex': 1}, 'widthPixels': 710, 'heightPixels': 313}}}\n",
      "Sheet: Comparison\n",
      "{'chartId': 735393917, 'spec': {'title': 'Performance vs Target', 'basicChart': {'chartType': 'COMBO', 'legendPosition': 'TOP_LEGEND', 'axis': [{'position': 'BOTTOM_AXIS', 'title': 'Category', 'format': {'fontFamily': 'Arial', 'fontSize': 14, 'bold': True}, 'viewWindowOptions': {}}, {'position': 'LEFT_AXIS', 'title': 'Value', 'format': {'fontFamily': 'Arial', 'fontSize': 14, 'bold': True}, 'viewWindowOptions': {}}], 'domains': [{'domain': {'sourceRange': {'sources': [{'sheetId': 1770726992, 'startRowIndex': 0, 'endRowIndex': 6, 'startColumnIndex': 0, 'endColumnIndex': 1}]}}}], 'series': [{'series': {'sourceRange': {'sources': [{'sheetId': 1770726992, 'startRowIndex': 0, 'endRowIndex': 6, 'startColumnIndex': 1, 'endColumnIndex': 2}]}}, 'targetAxis': 'LEFT_AXIS', 'type': 'COLUMN'}, {'series': {'sourceRange': {'sources': [{'sheetId': 1770726992, 'startRowIndex': 0, 'endRowIndex': 6, 'startColumnIndex': 2, 'endColumnIndex': 3}]}}, 'targetAxis': 'LEFT_AXIS', 'type': 'LINE'}], 'headerCount': 1}, 'hiddenDimensionStrategy': 'SKIP_HIDDEN_ROWS_AND_COLUMNS', 'titleTextFormat': {'foregroundColor': {}, 'fontFamily': 'Arial', 'fontSize': 16, 'bold': True, 'foregroundColorStyle': {'rgbColor': {}}}, 'fontName': 'Arial', 'titleTextPosition': {'horizontalAlignment': 'CENTER'}}, 'position': {'overlayPosition': {'anchorCell': {'sheetId': 1770726992, 'rowIndex': 1, 'columnIndex': 1}, 'widthPixels': 710, 'heightPixels': 313}}}\n",
      "Sheet: Stacked\n",
      "{'chartId': 1781631242, 'spec': {'title': 'Stacked Column Chart', 'basicChart': {'chartType': 'COLUMN', 'legendPosition': 'RIGHT_LEGEND', 'axis': [{'position': 'BOTTOM_AXIS', 'title': 'Category', 'format': {'fontFamily': 'Arial', 'fontSize': 14, 'bold': True}, 'viewWindowOptions': {}}, {'position': 'LEFT_AXIS', 'title': 'Value', 'format': {'fontFamily': 'Arial', 'fontSize': 14, 'bold': True}, 'viewWindowOptions': {}}], 'domains': [{'domain': {'sourceRange': {'sources': [{'sheetId': 1675344590, 'startRowIndex': 0, 'endRowIndex': 6, 'startColumnIndex': 0, 'endColumnIndex': 1}]}}}], 'series': [{'series': {'sourceRange': {'sources': [{'sheetId': 1675344590, 'startRowIndex': 0, 'endRowIndex': 6, 'startColumnIndex': 1, 'endColumnIndex': 2}]}}, 'targetAxis': 'LEFT_AXIS'}, {'series': {'sourceRange': {'sources': [{'sheetId': 1675344590, 'startRowIndex': 0, 'endRowIndex': 6, 'startColumnIndex': 2, 'endColumnIndex': 3}]}}, 'targetAxis': 'LEFT_AXIS'}, {'series': {'sourceRange': {'sources': [{'sheetId': 1675344590, 'startRowIndex': 0, 'endRowIndex': 6, 'startColumnIndex': 3, 'endColumnIndex': 4}]}}, 'targetAxis': 'LEFT_AXIS'}], 'headerCount': 1, 'stackedType': 'STACKED'}, 'hiddenDimensionStrategy': 'SKIP_HIDDEN_ROWS_AND_COLUMNS', 'titleTextFormat': {'foregroundColor': {}, 'fontFamily': 'Arial', 'fontSize': 16, 'bold': True, 'foregroundColorStyle': {'rgbColor': {}}}, 'fontName': 'Arial', 'titleTextPosition': {'horizontalAlignment': 'CENTER'}}, 'position': {'overlayPosition': {'anchorCell': {'sheetId': 1675344590, 'rowIndex': 1, 'columnIndex': 1}, 'widthPixels': 351, 'heightPixels': 316}}}\n",
      "{'chartId': 259701597, 'spec': {'title': 'Clustered Column Chart', 'basicChart': {'chartType': 'COLUMN', 'legendPosition': 'RIGHT_LEGEND', 'axis': [{'position': 'BOTTOM_AXIS', 'title': 'Category', 'format': {'fontFamily': 'Arial', 'fontSize': 14, 'bold': True}, 'viewWindowOptions': {}}, {'position': 'LEFT_AXIS', 'title': 'Value', 'format': {'fontFamily': 'Arial', 'fontSize': 14, 'bold': True}, 'viewWindowOptions': {}}], 'domains': [{'domain': {'sourceRange': {'sources': [{'sheetId': 1675344590, 'startRowIndex': 0, 'endRowIndex': 6, 'startColumnIndex': 0, 'endColumnIndex': 1}]}}}], 'series': [{'series': {'sourceRange': {'sources': [{'sheetId': 1675344590, 'startRowIndex': 0, 'endRowIndex': 6, 'startColumnIndex': 1, 'endColumnIndex': 2}]}}, 'targetAxis': 'LEFT_AXIS'}, {'series': {'sourceRange': {'sources': [{'sheetId': 1675344590, 'startRowIndex': 0, 'endRowIndex': 6, 'startColumnIndex': 2, 'endColumnIndex': 3}]}}, 'targetAxis': 'LEFT_AXIS'}, {'series': {'sourceRange': {'sources': [{'sheetId': 1675344590, 'startRowIndex': 0, 'endRowIndex': 6, 'startColumnIndex': 3, 'endColumnIndex': 4}]}}, 'targetAxis': 'LEFT_AXIS'}], 'headerCount': 1}, 'hiddenDimensionStrategy': 'SKIP_HIDDEN_ROWS_AND_COLUMNS', 'titleTextFormat': {'foregroundColor': {}, 'fontFamily': 'Arial', 'fontSize': 16, 'bold': True, 'foregroundColorStyle': {'rgbColor': {}}}, 'fontName': 'Arial', 'titleTextPosition': {'horizontalAlignment': 'CENTER'}}, 'position': {'overlayPosition': {'anchorCell': {'sheetId': 1675344590, 'rowIndex': 1, 'columnIndex': 1}, 'widthPixels': 351, 'heightPixels': 316}}}\n",
      "Sheet: Area\n",
      "{'chartId': 941334162, 'spec': {'title': 'Financial Performance Over Time', 'basicChart': {'chartType': 'AREA', 'legendPosition': 'RIGHT_LEGEND', 'axis': [{'position': 'BOTTOM_AXIS', 'title': 'Date', 'format': {'fontFamily': 'Arial', 'fontSize': 14, 'bold': True}, 'viewWindowOptions': {}}, {'position': 'LEFT_AXIS', 'title': 'Amount ($)', 'format': {'fontFamily': 'Arial', 'fontSize': 14, 'bold': True}, 'viewWindowOptions': {}}], 'domains': [{'domain': {'sourceRange': {'sources': [{'sheetId': 567977665, 'startRowIndex': 0, 'endRowIndex': 14, 'startColumnIndex': 0, 'endColumnIndex': 1}]}}}], 'series': [{'series': {'sourceRange': {'sources': [{'sheetId': 567977665, 'startRowIndex': 0, 'endRowIndex': 14, 'startColumnIndex': 1, 'endColumnIndex': 2}]}}, 'targetAxis': 'LEFT_AXIS'}, {'series': {'sourceRange': {'sources': [{'sheetId': 567977665, 'startRowIndex': 0, 'endRowIndex': 14, 'startColumnIndex': 2, 'endColumnIndex': 3}]}}, 'targetAxis': 'LEFT_AXIS'}, {'series': {'sourceRange': {'sources': [{'sheetId': 567977665, 'startRowIndex': 0, 'endRowIndex': 14, 'startColumnIndex': 3, 'endColumnIndex': 4}]}}, 'targetAxis': 'LEFT_AXIS'}], 'headerCount': 1}, 'hiddenDimensionStrategy': 'SKIP_HIDDEN_ROWS_AND_COLUMNS', 'titleTextFormat': {'foregroundColor': {}, 'fontFamily': 'Arial', 'fontSize': 16, 'bold': True, 'foregroundColorStyle': {'rgbColor': {}}}, 'fontName': 'Arial', 'titleTextPosition': {'horizontalAlignment': 'CENTER'}}, 'position': {'overlayPosition': {'anchorCell': {'sheetId': 567977665, 'rowIndex': 1, 'columnIndex': 1}, 'widthPixels': 710, 'heightPixels': 313}}}\n",
      "Sheet: Histogram\n",
      "{'chartId': 1164992716, 'spec': {'title': 'Distribution Analysis', 'hiddenDimensionStrategy': 'SKIP_HIDDEN_ROWS_AND_COLUMNS', 'titleTextFormat': {'foregroundColor': {}, 'fontFamily': 'Arial', 'fontSize': 16, 'bold': True, 'foregroundColorStyle': {'rgbColor': {}}}, 'fontName': 'Arial', 'histogramChart': {'series': [{'data': {'sourceRange': {'sources': [{'sheetId': 991894350, 'startRowIndex': 0, 'endRowIndex': 1501, 'startColumnIndex': 0, 'endColumnIndex': 1}]}}}], 'legendPosition': 'BOTTOM_LEGEND'}, 'titleTextPosition': {'horizontalAlignment': 'CENTER'}}, 'position': {'overlayPosition': {'anchorCell': {'sheetId': 991894350}, 'widthPixels': 710, 'heightPixels': 313}}}\n",
      "Sheet: TimeSeries\n",
      "{'chartId': 926672859, 'spec': {'title': 'Time Series Analysis', 'basicChart': {'chartType': 'LINE', 'legendPosition': 'RIGHT_LEGEND', 'axis': [{'position': 'BOTTOM_AXIS', 'title': 'Date', 'format': {'fontFamily': 'Arial', 'fontSize': 14, 'bold': True}, 'viewWindowOptions': {}}, {'position': 'LEFT_AXIS', 'title': 'Value', 'format': {'fontFamily': 'Arial', 'fontSize': 14, 'bold': True}, 'viewWindowOptions': {}}], 'domains': [{'domain': {'sourceRange': {'sources': [{'sheetId': 705474948, 'startRowIndex': 0, 'endRowIndex': 367, 'startColumnIndex': 0, 'endColumnIndex': 1}]}}}], 'series': [{'series': {'sourceRange': {'sources': [{'sheetId': 705474948, 'startRowIndex': 0, 'endRowIndex': 367, 'startColumnIndex': 1, 'endColumnIndex': 2}]}}, 'targetAxis': 'LEFT_AXIS'}, {'series': {'sourceRange': {'sources': [{'sheetId': 705474948, 'startRowIndex': 0, 'endRowIndex': 367, 'startColumnIndex': 2, 'endColumnIndex': 3}]}}, 'targetAxis': 'LEFT_AXIS'}, {'series': {'sourceRange': {'sources': [{'sheetId': 705474948, 'startRowIndex': 0, 'endRowIndex': 367, 'startColumnIndex': 3, 'endColumnIndex': 4}]}}, 'targetAxis': 'LEFT_AXIS'}], 'headerCount': 1}, 'hiddenDimensionStrategy': 'SKIP_HIDDEN_ROWS_AND_COLUMNS', 'titleTextFormat': {'foregroundColor': {}, 'fontFamily': 'Arial', 'fontSize': 16, 'bold': True, 'foregroundColorStyle': {'rgbColor': {}}}, 'fontName': 'Arial', 'titleTextPosition': {'horizontalAlignment': 'CENTER'}}, 'position': {'overlayPosition': {'anchorCell': {'sheetId': 705474948, 'rowIndex': 1, 'columnIndex': 1}, 'widthPixels': 710, 'heightPixels': 313}}}\n",
      "{'chartId': 1354142907, 'spec': {'title': 'Styled Time Series Analysis', 'basicChart': {'chartType': 'LINE', 'legendPosition': 'RIGHT_LEGEND', 'axis': [{'position': 'BOTTOM_AXIS', 'title': 'Date', 'format': {'fontFamily': 'Arial', 'fontSize': 14, 'bold': True}, 'viewWindowOptions': {}}, {'position': 'LEFT_AXIS', 'title': 'Value', 'format': {'fontFamily': 'Arial', 'fontSize': 14, 'bold': True}, 'viewWindowOptions': {}}], 'domains': [{'domain': {'sourceRange': {'sources': [{'sheetId': 705474948, 'startRowIndex': 0, 'endRowIndex': 367, 'startColumnIndex': 0, 'endColumnIndex': 1}]}}}], 'series': [{'series': {'sourceRange': {'sources': [{'sheetId': 705474948, 'startRowIndex': 0, 'endRowIndex': 367, 'startColumnIndex': 1, 'endColumnIndex': 2}]}}, 'targetAxis': 'LEFT_AXIS'}, {'series': {'sourceRange': {'sources': [{'sheetId': 705474948, 'startRowIndex': 0, 'endRowIndex': 367, 'startColumnIndex': 2, 'endColumnIndex': 3}]}}, 'targetAxis': 'LEFT_AXIS'}, {'series': {'sourceRange': {'sources': [{'sheetId': 705474948, 'startRowIndex': 0, 'endRowIndex': 367, 'startColumnIndex': 3, 'endColumnIndex': 4}]}}, 'targetAxis': 'LEFT_AXIS'}], 'headerCount': 1}, 'hiddenDimensionStrategy': 'SKIP_HIDDEN_ROWS_AND_COLUMNS', 'titleTextFormat': {'foregroundColor': {}, 'fontFamily': 'Arial', 'fontSize': 16, 'bold': True, 'foregroundColorStyle': {'rgbColor': {}}}, 'fontName': 'Arial', 'titleTextPosition': {'horizontalAlignment': 'CENTER'}}, 'position': {'overlayPosition': {'anchorCell': {'sheetId': 705474948, 'rowIndex': 1, 'columnIndex': 1}, 'widthPixels': 710, 'heightPixels': 313}}}\n",
      "Sheet: Correlation\n",
      "{'chartId': 1881490990, 'spec': {'title': 'Correlation Analysis', 'basicChart': {'chartType': 'SCATTER', 'legendPosition': 'TOP_LEGEND', 'axis': [{'position': 'BOTTOM_AXIS', 'title': 'X Value', 'format': {'fontFamily': 'Arial', 'fontSize': 14, 'bold': True}, 'viewWindowOptions': {}}, {'position': 'LEFT_AXIS', 'title': 'Y Value', 'format': {'fontFamily': 'Arial', 'fontSize': 14, 'bold': True}, 'viewWindowOptions': {}}], 'domains': [{'domain': {'sourceRange': {'sources': [{'sheetId': 1245990229, 'startRowIndex': 0, 'endRowIndex': 106, 'startColumnIndex': 0, 'endColumnIndex': 1}]}}}], 'series': [{'series': {'sourceRange': {'sources': [{'sheetId': 1245990229, 'startRowIndex': 0, 'endRowIndex': 106, 'startColumnIndex': 1, 'endColumnIndex': 2}]}}, 'targetAxis': 'LEFT_AXIS'}], 'headerCount': 1}, 'hiddenDimensionStrategy': 'SKIP_HIDDEN_ROWS_AND_COLUMNS', 'titleTextFormat': {'foregroundColor': {}, 'fontFamily': 'Arial', 'fontSize': 16, 'bold': True, 'foregroundColorStyle': {'rgbColor': {}}}, 'fontName': 'Arial', 'titleTextPosition': {'horizontalAlignment': 'CENTER'}}, 'position': {'overlayPosition': {'anchorCell': {'sheetId': 1245990229, 'rowIndex': 1, 'columnIndex': 1}, 'widthPixels': 710, 'heightPixels': 313}}}\n",
      "{'chartId': 1510762904, 'spec': {'title': 'Multi-Column Colored Scatter Plot (Y vs X, Z vs X)', 'basicChart': {'chartType': 'SCATTER', 'legendPosition': 'TOP_LEGEND', 'axis': [{'position': 'BOTTOM_AXIS', 'title': 'X Value', 'format': {'fontFamily': 'Arial', 'fontSize': 14, 'bold': True}, 'viewWindowOptions': {}}, {'position': 'LEFT_AXIS', 'title': 'Y / Z Value', 'format': {'fontFamily': 'Arial', 'fontSize': 14, 'bold': True}, 'viewWindowOptions': {}}], 'domains': [{'domain': {'sourceRange': {'sources': [{'sheetId': 1245990229, 'startRowIndex': 0, 'endRowIndex': 106, 'startColumnIndex': 0, 'endColumnIndex': 1}]}}}], 'series': [{'series': {'sourceRange': {'sources': [{'sheetId': 1245990229, 'startRowIndex': 0, 'endRowIndex': 106, 'startColumnIndex': 1, 'endColumnIndex': 2}]}}, 'targetAxis': 'LEFT_AXIS', 'color': {'red': 1}, 'colorStyle': {'rgbColor': {'red': 1}}}, {'series': {'sourceRange': {'sources': [{'sheetId': 1245990229, 'startRowIndex': 0, 'endRowIndex': 106, 'startColumnIndex': 2, 'endColumnIndex': 3}]}}, 'targetAxis': 'LEFT_AXIS', 'color': {'blue': 1}, 'colorStyle': {'rgbColor': {'blue': 1}}}], 'headerCount': 1}, 'hiddenDimensionStrategy': 'SKIP_HIDDEN_ROWS_AND_COLUMNS', 'titleTextFormat': {'foregroundColor': {}, 'fontFamily': 'Arial', 'fontSize': 16, 'bold': True, 'foregroundColorStyle': {'rgbColor': {}}}, 'fontName': 'Arial', 'titleTextPosition': {'horizontalAlignment': 'CENTER'}}, 'position': {'overlayPosition': {'anchorCell': {'sheetId': 1245990229, 'rowIndex': 1, 'columnIndex': 1}, 'widthPixels': 710, 'heightPixels': 313}}}\n"
     ]
    }
   ],
   "source": [
    "from googleapiclient.discovery import build\n",
    "from google.oauth2 import service_account\n",
    "\n",
    "sheets_service = build('sheets', 'v4', credentials=creds)\n",
    "\n",
    "spreadsheet_id = '12SEO-OyOBnA2_VSGBlZstzhr3CTtIU88w0CPTlzZS9A'\n",
    "sheet = sheets_service.spreadsheets().get(spreadsheetId=spreadsheet_id, includeGridData=False).execute()\n",
    "for s in sheet['sheets']:\n",
    "    print(f\"Sheet: {s['properties']['title']}\")\n",
    "    if 'charts' in s:\n",
    "        for c in s['charts']:\n",
    "            print(c)  # You will see chartId here"
   ]
  },
  {
   "cell_type": "code",
   "execution_count": 3,
   "metadata": {},
   "outputs": [
    {
     "data": {
      "text/plain": [
       "{'presentationId': '1IENs8LPclIjtzIx0qtR6aqnQESXnVVAHH02E5WslPm8',\n",
       " 'replies': [{'createSlide': {'objectId': 'slide_with_chart'}},\n",
       "  {'createSheetsChart': {'objectId': 'embedded_chart'}}],\n",
       " 'writeControl': {'requiredRevisionId': '7knCGbGOcTTRAg'}}"
      ]
     },
     "execution_count": 3,
     "metadata": {},
     "output_type": "execute_result"
    }
   ],
   "source": [
    "from googleapiclient.discovery import build\n",
    "from google.oauth2 import service_account\n",
    "from utils import get_credentials\n",
    "\n",
    "# Setup\n",
    "creds = get_credentials()\n",
    "# creds = service_account.Credentials.from_service_account_file(\n",
    "#     'credentials.json',\n",
    "#     scopes=['https://www.googleapis.com/auth/presentations', 'https://www.googleapis.com/auth/drive']\n",
    "# )\n",
    "slides_service = build('slides', 'v1', credentials=creds)\n",
    "\n",
    "# Required IDs\n",
    "presentation_id = '1IENs8LPclIjtzIx0qtR6aqnQESXnVVAHH02E5WslPm8'\n",
    "spreadsheet_id = '12SEO-OyOBnA2_VSGBlZstzhr3CTtIU88w0CPTlzZS9A'\n",
    "chart_id = 2124786946  # <- Replace with actual chart ID\n",
    "\n",
    "# Slide insertion\n",
    "requests = [{\n",
    "    'createSlide': {\n",
    "        'objectId': 'slide_with_chart',\n",
    "        'slideLayoutReference': {'predefinedLayout': 'BLANK'}\n",
    "    }\n",
    "}, {\n",
    "    'createSheetsChart': {\n",
    "        'objectId': 'embedded_chart',\n",
    "        'spreadsheetId': spreadsheet_id,\n",
    "        'chartId': chart_id,\n",
    "        'linkingMode': 'LINKED',\n",
    "        'elementProperties': {\n",
    "            'pageObjectId': 'slide_with_chart',\n",
    "            'size': {\n",
    "                'height': {'magnitude': 3000000, 'unit': 'EMU'},\n",
    "                'width': {'magnitude': 5000000, 'unit': 'EMU'}\n",
    "            },\n",
    "            'transform': {\n",
    "                'translateX': 1000000,\n",
    "                'translateY': 1000000,\n",
    "                'scaleX': 1,\n",
    "                'scaleY': 1,\n",
    "                'unit': 'EMU'\n",
    "            }\n",
    "        }\n",
    "    }\n",
    "}]\n",
    "\n",
    "# Run the batch update\n",
    "slides_service.presentations().batchUpdate(\n",
    "    presentationId=presentation_id,\n",
    "    body={'requests': requests}\n",
    ").execute()"
   ]
  },
  {
   "cell_type": "code",
   "execution_count": null,
   "metadata": {},
   "outputs": [],
   "source": []
  }
 ],
 "metadata": {
  "kernelspec": {
   "display_name": "base",
   "language": "python",
   "name": "python3"
  },
  "language_info": {
   "codemirror_mode": {
    "name": "ipython",
    "version": 3
   },
   "file_extension": ".py",
   "mimetype": "text/x-python",
   "name": "python",
   "nbconvert_exporter": "python",
   "pygments_lexer": "ipython3",
   "version": "3.8.10"
  }
 },
 "nbformat": 4,
 "nbformat_minor": 2
}
